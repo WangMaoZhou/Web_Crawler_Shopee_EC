{
 "cells": [
  {
   "cell_type": "markdown",
   "metadata": {},
   "source": [
    "# Title : Crawler_Shopee_EC "
   ]
  },
  {
   "cell_type": "markdown",
   "metadata": {},
   "source": [
    "Date : 2020.07.02\n",
    "\n",
    "Update : 2020.08.06\n",
    "\n",
    "Author : Mao-Zhou Wang\n",
    "\n",
    "Email : maozhou0112@gmail.com"
   ]
  },
  {
   "cell_type": "code",
   "execution_count": null,
   "metadata": {},
   "outputs": [],
   "source": [
    "import requests\n",
    "import json\n",
    "import time\n",
    "from fake_useragent import UserAgent\n",
    "import pandas as pd\n",
    "from bs4 import BeautifulSoup as bs\n",
    "import math\n",
    "import pyodbc\n",
    "import numpy as np"
   ]
  },
  {
   "cell_type": "code",
   "execution_count": 2,
   "metadata": {},
   "outputs": [],
   "source": [
    "#server = '***,***' #伺服器名稱,port\n",
    "#database = '***'\n",
    "#username = '***'\n",
    "#password = '***'\n",
    "cnxn = pyodbc.connect('DRIVER={sql server};SERVER=' + server + ';DATABASE=' +\n",
    "                      database + ';UID=' + username + ';PWD=' + password)\n",
    "cursor = cnxn.cursor()"
   ]
  },
  {
   "cell_type": "code",
   "execution_count": null,
   "metadata": {},
   "outputs": [],
   "source": [
    "from fake_useragent import UserAgent\n",
    "ua = UserAgent()\n",
    "for i in range(5):\n",
    "    print(ua.random)\n",
    "    print('*-----------------*')"
   ]
  },
  {
   "cell_type": "markdown",
   "metadata": {},
   "source": [
    "### 1.透過商品主類別,次類別爬取所有商品商家之shopid"
   ]
  },
  {
   "cell_type": "code",
   "execution_count": null,
   "metadata": {},
   "outputs": [],
   "source": [
    "cursor.execute(\"SELECT catid FROM Cat \")\n",
    "rows = cursor.fetchall()\n",
    "len(rows)"
   ]
  },
  {
   "cell_type": "code",
   "execution_count": null,
   "metadata": {},
   "outputs": [],
   "source": [
    "shopid = []\n",
    "for a in range(0, len(rows)):\n",
    "    b = rows[a]\n",
    "    c = \"\".join(b)\n",
    "    print(a, ':', c)\n",
    "    categoryids = str(c)\n",
    "\n",
    "    for p in range(1, 81):  #最多80頁\n",
    "        limit = str(100)\n",
    "        newest = str(100 * (p - 1))\n",
    "        url = 'https://shopee.tw/api/v1/search_items/?by=relevancy&fe_categoryids=' + categoryids + '&limit=' + limit + '&newest=' + newest + '&order=desc&page_type=search&version=1'\n",
    "        header = {\n",
    "            'Accept': 'application/json;',\n",
    "            'User-Agent': 'Googlebot',\n",
    "            'Connection': 'close'\n",
    "        }\n",
    "        r = requests.get(url, headers=header)\n",
    "        i = r.json()\n",
    "        shopid = []\n",
    "        for x in range(0, 100):\n",
    "            try:\n",
    "                y = i[\"items\"][x]\n",
    "                z = y['shopid']\n",
    "                shopid.append(z)\n",
    "            except:\n",
    "                pass\n",
    "            continue\n",
    "        rshopid = tuple(set(shopid))  #移除重複\n",
    "        len(rshopid)\n",
    "        #存成DataFrame在匯入db\n",
    "        df = pd.DataFrame(rshopid, columns=['shopid'])\n",
    "        for row in df.itertuples():\n",
    "            cursor.execute(\n",
    "                ' IF NOT EXISTS (SELECT 1 FROM dbo.Shopid2 WHERE shopid = ? ) BEGIN INSERT INTO dbo.Shopid2(shopid)VALUES (?) END',\n",
    "                row.shopid, row.shopid)\n",
    "\n",
    "        cnxn.commit()\n",
    "        print(p, 'done')"
   ]
  },
  {
   "cell_type": "markdown",
   "metadata": {},
   "source": [
    "### 2.爬取商家資訊,instert db"
   ]
  },
  {
   "cell_type": "code",
   "execution_count": null,
   "metadata": {},
   "outputs": [],
   "source": [
    "cursor.execute(\n",
    "    \"select shopid from Shopid2 where shopid not in (select storeid from StoreCopy)\"\n",
    ")\n",
    "rows = cursor.fetchall()\n",
    "len(rows)"
   ]
  },
  {
   "cell_type": "code",
   "execution_count": null,
   "metadata": {},
   "outputs": [],
   "source": [
    "#更改User-Agent\n",
    "#https://shopee.tw/robots.txt"
   ]
  },
  {
   "cell_type": "code",
   "execution_count": null,
   "metadata": {},
   "outputs": [],
   "source": [
    "for i in range(0, len(rows)):\n",
    "    try:\n",
    "        df = []\n",
    "        a = rows[i]\n",
    "        b = \"\".join(a)\n",
    "        header = {\n",
    "            'Accept': 'application/json;',\n",
    "            'User-Agent': 'Googlebot',\n",
    "            'Connection': 'close'\n",
    "        }\n",
    "        url = 'https://shopee.tw/api/v2/shop/get?shopid=' + b + ''\n",
    "        r = requests.get(url, verify=False)\n",
    "        i1 = r.json()\n",
    "        j = i1[\"data\"]\n",
    "        y = j['account']\n",
    "        x = j['rating_normal'] + j['rating_bad'] + j['rating_good']\n",
    "        name = y['username']\n",
    "        url1 = 'https://shopee.tw/' + name + ''\n",
    "        if j['is_shopee_verified'] == False and j['is_official_shop'] == True:\n",
    "            shoptype = '蝦皮商城'\n",
    "        if j['is_shopee_verified'] == True and j['is_official_shop'] == False:\n",
    "            shoptype = '蝦皮優選'\n",
    "        if j['is_shopee_verified'] == False and j['is_official_shop'] == False:\n",
    "            shoptype = '蝦皮購物'\n",
    "        timeStamp = j['ctime']\n",
    "        #now = int(time.time())\n",
    "        timeArray = time.localtime(timeStamp)\n",
    "        otherStyleTime = time.strftime(\"%Y-%m-%d %H:%M:%S\", timeArray)\n",
    "        url2 = 'https://shopee.tw/shop/' + b + '/search'\n",
    "        r2 = requests.get(url2, headers=header, allow_redirects=False)\n",
    "        soup = bs(r2.text, 'html.parser')\n",
    "        pid = soup.find('span', {\n",
    "            'class': 'shopee-mini-page-controller__total'\n",
    "        }).text\n",
    "        lastpage = int(pid) - 1\n",
    "        url3 = \"https://shopee.tw/shop/\" + b + \"/search?page=\" + str(\n",
    "            lastpage) + \"&sortBy=pop\"\n",
    "        r3 = requests.get(url3, headers=header, allow_redirects=False)\n",
    "        soup = bs(r3.text, 'html.parser')\n",
    "        c = 0\n",
    "        for tag in soup.find_all(\n",
    "                'div', {'class': 'shop-search-result-view__item col-xs-2-4'}):\n",
    "            c = c + 1\n",
    "        d = c\n",
    "        itemp = 30\n",
    "        ritem = itemp * lastpage + d\n",
    "        print(i, b, url1, y['username'], j['name'], j['shop_location'],\n",
    "              shoptype, j['item_count'], j['response_rate'],\n",
    "              j['cancellation_rate'], j['follower_count'], j['rating_star'], x,\n",
    "              otherStyleTime, ritem)\n",
    "        df.append([\n",
    "            str(b),\n",
    "            str(url1),\n",
    "            str(y['username']),\n",
    "            str(j['name']),\n",
    "            str(j['description']),\n",
    "            str(j['shop_location']),\n",
    "            str(shoptype),\n",
    "            str(j['item_count']),\n",
    "            str(j['response_rate']),\n",
    "            str(j['cancellation_rate']),\n",
    "            str(j['follower_count']),\n",
    "            str(j['rating_star']),\n",
    "            str(j['rating_good']),\n",
    "            str(j['rating_normal']),\n",
    "            str(j['rating_bad']),\n",
    "            str(x),\n",
    "            str(otherStyleTime),\n",
    "            str(ritem)\n",
    "        ])\n",
    "        df2 = pd.DataFrame(\n",
    "            df,\n",
    "            columns=[\n",
    "                'storeid', 'url', 'username', 'name', 'description',\n",
    "                'shop_location', 'shoptype', 'item_count', 'response_rate',\n",
    "                'cancellation_rate', 'follower_count', 'rating_star',\n",
    "                'rating_good', 'rating_normal', 'rating_bad', 'rating_count',\n",
    "                'ctime', 'ritem_count'\n",
    "            ])\n",
    "        for row in df2.itertuples():\n",
    "            cursor.execute(\n",
    "                'INSERT INTO dbo.StoreCopy(storeid,url,username,name,description,shop_location,shoptype,item_count,response_rate,cancellation_rate,follower_count,rating_star,rating_good,rating_normal,rating_bad,rating_count,ctime,ritem_count)VALUES (?,?,?,?,?,?,?,?,?,?,?,?,?,?,?,?,?,?)',\n",
    "                row.storeid, row.url, row.username, row.name, row.description,\n",
    "                row.shop_location, row.shoptype, row.item_count,\n",
    "                row.response_rate, row.cancellation_rate, row.follower_count,\n",
    "                row.rating_star, row.rating_good, row.rating_normal,\n",
    "                row.rating_bad, row.rating_count, row.ctime, row.ritem_count)\n",
    "            cnxn.commit()\n",
    "    except:\n",
    "        pass\n",
    "    continue"
   ]
  },
  {
   "cell_type": "markdown",
   "metadata": {},
   "source": [
    "### 3.爬取商家商品資訊,insert db"
   ]
  },
  {
   "cell_type": "code",
   "execution_count": null,
   "metadata": {},
   "outputs": [],
   "source": [
    "#方法一\n",
    "#資料量越多導致,篩選時間太長\n",
    "cursor.execute(\n",
    "    \"select storeid from StoreCopy where storeid like '6%' and  storeid not in (select shopid from Shopiditem)\"\n",
    ")\n",
    "rows = cursor.fetchall()\n",
    "len(rows)"
   ]
  },
  {
   "cell_type": "code",
   "execution_count": null,
   "metadata": {},
   "outputs": [],
   "source": [
    "#方法二\n",
    "#透過set篩選\n",
    "cursor.execute(\"select shopid from Shopid2 where shopid like '8%' \")\n",
    "rowA = cursor.fetchall()\n",
    "y = []\n",
    "for i in range(0, len(rowA)):\n",
    "    a = rowA[i]\n",
    "    b = \"\".join(a)\n",
    "    y.append(b)\n",
    "cursor.execute(\"select distinct shopid from Item8 \")\n",
    "rowB = cursor.fetchall()\n",
    "z = []\n",
    "for i in range(0, len(rowB)):\n",
    "    a = rowB[i]\n",
    "    b = \"\".join(a)\n",
    "    z.append(b)\n",
    "X = set(y) - set(z)\n",
    "rows = tuple(X)\n",
    "len(rows)"
   ]
  },
  {
   "cell_type": "code",
   "execution_count": 53,
   "metadata": {
    "collapsed": true
   },
   "outputs": [
    {
     "name": "stdout",
     "output_type": "stream",
     "text": [
      "135 2\n",
      "https://shopee.tw/api/v1/search_items/?by=pop&limit=100&match_id=6502065&newest=0&order=desc&page_type=shop&version=2\n",
      "10 1 6502065 done\n",
      "https://shopee.tw/api/v1/search_items/?by=pop&limit=100&match_id=6502065&newest=100&order=desc&page_type=shop&version=2\n",
      "10 2 6502065 done\n"
     ]
    }
   ],
   "source": [
    "for i in range(0, len(rows)):\n",
    "    b = rows[i]\n",
    "    #b = \"\".join(a)\n",
    "    url = 'https://shopee.tw/api/v1/search_items/?by=pop&limit=100&match_id=' + b + '&newest=0&order=desc&page_type=shop&version=2'\n",
    "    header = {\n",
    "        'Accept': 'application/json;',\n",
    "        'User-Agent': 'Googlebot',\n",
    "        'Connection': 'close'\n",
    "    }\n",
    "    r = requests.get(url, headers=header)\n",
    "    i1 = r.json()\n",
    "    k = math.ceil(i1['total_count'] / 100)\n",
    "    print(i1['total_count'], k)\n",
    "\n",
    "    for m in range(1, k + 1):\n",
    "        icc = []\n",
    "        limit1 = str(100)\n",
    "        newset1 = str(100 * (m - 1))\n",
    "        url2 = 'https://shopee.tw/api/v1/search_items/?by=pop&limit=' + limit1 + '&match_id=' + b + '&newest=' + newset1 + '&order=desc&page_type=shop&version=2'\n",
    "        r2 = requests.get(url2, headers=header)\n",
    "        i2 = r2.json()\n",
    "        print(url2)\n",
    "        for n in range(0, 100):  #單一商家所有商品itemid\n",
    "            try:\n",
    "                j2 = i2[\"items\"][n]\n",
    "                itemid = j2['itemid']\n",
    "                f = str(itemid)\n",
    "                url3 = 'https://shopee.tw/api/v2/item/get?itemid=' + f + '&shopid=' + b + ''\n",
    "                r3 = requests.get(url3, headers=header)\n",
    "                i3 = r3.json()\n",
    "                ci = i3[\"item\"]['categories'][0]['catid']  #主類別\n",
    "                ci1 = i3[\"item\"]['categories'][1]['catid']  #次類別\n",
    "                icc.append([str(b), str(itemid), str(ci), str(ci1)])\n",
    "            except:\n",
    "                pass\n",
    "            continue\n",
    "        df2 = pd.DataFrame(icc,\n",
    "                           columns=['shopid', 'itemid', 'catid', 'catid2'])\n",
    "        for row in df2.itertuples():\n",
    "            cursor.execute(\n",
    "                'IF NOT EXISTS (SELECT 1 FROM dbo.Item6 WHERE shopid = ? and itemid = ?) BEGIN INSERT INTO dbo.Item6(shopid,itemid,catid,catid2)VALUES (?,?,?,?) END',\n",
    "                row.shopid, row.itemid, row.shopid, row.itemid, row.catid,\n",
    "                row.catid2)\n",
    "            cnxn.commit()\n",
    "        print(i, m, str(b), 'done')"
   ]
  },
  {
   "cell_type": "markdown",
   "metadata": {},
   "source": [
    "### 計算商家商品類別數"
   ]
  },
  {
   "cell_type": "code",
   "execution_count": null,
   "metadata": {},
   "outputs": [],
   "source": [
    "print(icc.count(62), icc.count(67), icc.count(100), icc.count(73),\n",
    "      icc.count(2580), icc.count(64), icc.count(65), icc.count(66),\n",
    "      icc.count(1657), icc.count(74), icc.count(68), icc.count(63),\n",
    "      icc.count(70), icc.count(69), icc.count(71), icc.count(1837),\n",
    "      icc.count(1859), icc.count(1611), icc.count(10076), icc.count(75),\n",
    "      icc.count(72), icc.count(10000067))\n",
    "df.append([\n",
    "    icc.count(62),\n",
    "    icc.count(67),\n",
    "    icc.count(100),\n",
    "    icc.count(73),\n",
    "    icc.count(2580),\n",
    "    icc.count(64),\n",
    "    icc.count(65),\n",
    "    icc.count(66),\n",
    "    icc.count(1657),\n",
    "    icc.count(74),\n",
    "    icc.count(68),\n",
    "    icc.count(63),\n",
    "    icc.count(70),\n",
    "    icc.count(69),\n",
    "    icc.count(71),\n",
    "    icc.count(1837),\n",
    "    icc.count(1859),\n",
    "    icc.count(1611),\n",
    "    icc.count(10076),\n",
    "    icc.count(75),\n",
    "    icc.count(72),\n",
    "    icc.count(10000067)\n",
    "])"
   ]
  }
 ],
 "metadata": {
  "kernelspec": {
   "display_name": "Python 3",
   "language": "python",
   "name": "python3"
  },
  "language_info": {
   "codemirror_mode": {
    "name": "ipython",
    "version": 3
   },
   "file_extension": ".py",
   "mimetype": "text/x-python",
   "name": "python",
   "nbconvert_exporter": "python",
   "pygments_lexer": "ipython3",
   "version": "3.7.6"
  },
  "varInspector": {
   "cols": {
    "lenName": 16,
    "lenType": 16,
    "lenVar": 40
   },
   "kernels_config": {
    "python": {
     "delete_cmd_postfix": "",
     "delete_cmd_prefix": "del ",
     "library": "var_list.py",
     "varRefreshCmd": "print(var_dic_list())"
    },
    "r": {
     "delete_cmd_postfix": ") ",
     "delete_cmd_prefix": "rm(",
     "library": "var_list.r",
     "varRefreshCmd": "cat(var_dic_list()) "
    }
   },
   "types_to_exclude": [
    "module",
    "function",
    "builtin_function_or_method",
    "instance",
    "_Feature"
   ],
   "window_display": false
  }
 },
 "nbformat": 4,
 "nbformat_minor": 4
}
